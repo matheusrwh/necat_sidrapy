{
  "cells": [
    {
      "cell_type": "markdown",
      "metadata": {
        "id": "JmhzozmePzpE"
      },
      "source": [
        "### Extração de dados da PIM-PF/IBGE"
      ]
    },
    {
      "cell_type": "markdown",
      "metadata": {
        "id": "V9r9um4qPzpG"
      },
      "source": [
        "Esse código importa as séries atualizadas da PIM-PF diretamente da API do SIDRA e organiza os dados para facilitar os gráficos e as tabelas no formato do Informativo do Necat/UFSC.\n",
        "\n",
        "**Se você estiver utilizando o Google Colab, será necessário instalar o pacote sidrapy.** Execute a primeira célula para instalar esse pacote."
      ]
    },
    {
      "cell_type": "code",
      "source": [
        "!pip install sidrapy"
      ],
      "metadata": {
        "id": "KjXiWmF7QNg9"
      },
      "execution_count": null,
      "outputs": []
    },
    {
      "cell_type": "code",
      "execution_count": 28,
      "metadata": {
        "id": "_1prC1AWPzpH"
      },
      "outputs": [],
      "source": [
        "import pandas as pd\n",
        "import sidrapy as sp\n",
        "import numpy as np\n",
        "from google.colab import files"
      ]
    },
    {
      "cell_type": "markdown",
      "metadata": {
        "id": "tIggQ8Y9PzpJ"
      },
      "source": [
        "# Dados do Brasil:"
      ]
    },
    {
      "cell_type": "markdown",
      "metadata": {
        "id": "ExdkFpLhPzpJ"
      },
      "source": [
        "Importando os dados da produção física industrial (PFI) do Brasil com ajuste sazonal (Gráfico 1):"
      ]
    },
    {
      "cell_type": "code",
      "execution_count": null,
      "metadata": {
        "id": "K_gUca84PzpK"
      },
      "outputs": [],
      "source": [
        "PFIBR_raw = sp.get_table(table_code='8888', territorial_level='1', ibge_territorial_code='all', variable='12607',period='last%2055', classification='544/129314')\n",
        "\n",
        "#Organizando as linhas e excluindo a última observação\n",
        "PFIBR_raw.columns = PFIBR_raw.iloc[0]\n",
        "PFIBR_raw = PFIBR_raw.iloc[1:,:]\n",
        "\n",
        "#Selecionando as colunas de interesse e renomeando\n",
        "PFIBR = PFIBR_raw.rename(columns = {\"Valor\":\"PFIBR\", \"Mês (Código)\":\"date\"})[['PFIBR', 'date']]\n",
        "\n",
        "#Convertendo o valor do índice para float e tratando o formato data\n",
        "PFIBR['PFIBR'] = PFIBR['PFIBR'].astype(float)\n",
        "\n",
        "PFIBR.index = pd.to_datetime(PFIBR['date'],format = \"%Y%m\")\n",
        "PFIBR = PFIBR.drop(columns = ['date'])\n",
        "\n",
        "#Indicando jan/2020=100 e excluindo a coluna com os valores jan/2012=100\n",
        "\n",
        "PFIBR['PFIBR_Fixa'] = PFIBR/PFIBR['PFIBR'].iloc[0]*100\n",
        "PFIBR = PFIBR.drop(columns = ['PFIBR'])\n",
        "\n",
        "PFIBR.head()"
      ]
    },
    {
      "cell_type": "markdown",
      "metadata": {
        "id": "Sk6TzwoUPzpL"
      },
      "source": [
        "Importando as variações da PFI de acordo com as bases de comparação do IBGE (Tabela 1):"
      ]
    },
    {
      "cell_type": "code",
      "execution_count": null,
      "metadata": {
        "id": "xDOvOKzVPzpL"
      },
      "outputs": [],
      "source": [
        "#Importando e organizando a série mensal com ajuste sazonal\n",
        "var1BR_raw = sp.get_table(table_code='8888', territorial_level='1', ibge_territorial_code='all', variable='11601', period='last%2012', classification='544/129314')\n",
        "\n",
        "var1BR_raw.columns = var1BR_raw.iloc[0]\n",
        "var1BR_raw = var1BR_raw.iloc[1:,:]\n",
        "\n",
        "var1BR = var1BR_raw.rename(columns = {\"Valor\":\"Mensal com ajuste sazonal\", 'Mês (Código)': 'date'})[['Mensal com ajuste sazonal', 'date']]\n",
        "\n",
        "var1BR['Mensal com ajuste sazonal'] = var1BR['Mensal com ajuste sazonal'].astype(float)\n",
        "\n",
        "var1BR.index = pd.to_datetime(var1BR['date'], format = \"%Y%m\")\n",
        "var1BR = var1BR.drop(columns = ['date'])\n",
        "\n",
        "#Importando e organizando a série mensal em relação ao mês anterior\n",
        "var2BR_raw = sp.get_table(table_code='8888', territorial_level='1', ibge_territorial_code='all', variable='11602', period='last%2012', classification='544/129314')\n",
        "\n",
        "var2BR_raw.columns = var2BR_raw.iloc[0]\n",
        "var2BR_raw = var2BR_raw.iloc[1:,:]\n",
        "\n",
        "var2BR = var2BR_raw.rename(columns = {\"Valor\":\"Mês/Mês ano anterior\", 'Mês (Código)': 'date'})[['Mês/Mês ano anterior', 'date']]\n",
        "\n",
        "var2BR['Mês/Mês ano anterior'] = var2BR['Mês/Mês ano anterior'].astype(float)\n",
        "\n",
        "var2BR.index = pd.to_datetime(var2BR['date'], format = \"%Y%m\")\n",
        "var2BR = var2BR.drop(columns = ['date'])\n",
        "\n",
        "#Importando e organizando a série do acumulado anual\n",
        "var3BR_raw = sp.get_table(table_code='8888', territorial_level='1', ibge_territorial_code='all', variable='11603', period='last%2012', classification='544/129314')\n",
        "\n",
        "var3BR_raw.columns = var3BR_raw.iloc[0]\n",
        "var3BR_raw = var3BR_raw.iloc[1:,:]\n",
        "\n",
        "var3BR = var3BR_raw.rename(columns = {\"Valor\":\"Acumulado anual\", 'Mês (Código)': 'date'})[['Acumulado anual', 'date']]\n",
        "\n",
        "var3BR['Acumulado anual'] = var3BR['Acumulado anual'].astype(float)\n",
        "\n",
        "var3BR.index = pd.to_datetime(var3BR['date'], format = \"%Y%m\")\n",
        "var3BR = var3BR.drop(columns = ['date'])\n",
        "\n",
        "#Importando e organizando a série do acumulado de doze meses\n",
        "var4BR_raw = sp.get_table(table_code='8888', territorial_level='1', ibge_territorial_code='all', variable='11604', period='last%2012', classification='544/129314')\n",
        "\n",
        "var4BR_raw.columns = var4BR_raw.iloc[0]\n",
        "var4BR_raw = var4BR_raw.iloc[1:,:]\n",
        "\n",
        "var4BR = var4BR_raw.rename(columns = {\"Valor\":\"Acumulado doze meses\", 'Mês (Código)': 'date'})[['Acumulado doze meses', 'date']]\n",
        "\n",
        "var4BR['Acumulado doze meses'] = var4BR['Acumulado doze meses'].astype(float)\n",
        "\n",
        "var4BR.index = pd.to_datetime(var4BR['date'], format = \"%Y%m\")\n",
        "var4BR = var4BR.drop(columns = ['date'])\n",
        "\n",
        "#Organizando as quatro séries no mesmo dataframe\n",
        "PFIBR_vars = pd.merge(var1BR, var2BR, left_index=True, right_index=True)\n",
        "PFIBR_vars = pd.merge(PFIBR_vars, var3BR, left_index=True, right_index=True)\n",
        "PFIBR_vars = pd.merge(PFIBR_vars, var4BR, left_index=True, right_index=True)\n",
        "\n",
        "PFIBR_vars"
      ]
    },
    {
      "cell_type": "markdown",
      "metadata": {
        "id": "Cl9ZxbOJPzpM"
      },
      "source": [
        "Importando as séries da PFI desagregada por categorias de uso (Gráfico 2):"
      ]
    },
    {
      "cell_type": "code",
      "execution_count": null,
      "metadata": {
        "id": "-z2JWUfdPzpN"
      },
      "outputs": [],
      "source": [
        "#Importando o índice do segmento de bens de capital\n",
        "uso1_raw = sp.get_table(table_code='8887', territorial_level='1', ibge_territorial_code='all', variable = '12607', period='last%2055', classification='543/129278')\n",
        "\n",
        "uso1_raw.columns = uso1_raw.iloc[0]\n",
        "uso1_raw = uso1_raw.iloc[1:,:]\n",
        "\n",
        "uso1 = uso1_raw.rename(columns = {\"Valor\":\"Capital\", \"Mês (Código)\":\"date\"})[['Capital', 'date']]\n",
        "\n",
        "uso1['Capital'] = uso1['Capital'].astype(float)\n",
        "\n",
        "uso1.index = pd.to_datetime(uso1['date'],format = \"%Y%m\")\n",
        "uso1 = uso1.drop(columns = ['date'])\n",
        "\n",
        "uso1['Capital_Fixa'] = uso1/uso1['Capital'].iloc[0]*100\n",
        "uso1 = uso1.drop(columns = ['Capital'])\n",
        "\n",
        "#Importando o índice do segmento de bens intermediários\n",
        "uso2_raw = sp.get_table(table_code='8887', territorial_level='1', ibge_territorial_code='all', variable = '12607', period='last%2055', classification='543/129283')\n",
        "\n",
        "uso2_raw.columns = uso2_raw.iloc[0]\n",
        "uso2_raw = uso2_raw.iloc[1:,:]\n",
        "\n",
        "uso2 = uso2_raw.rename(columns = {\"Valor\":\"Intermediários\", \"Mês (Código)\":\"date\"})[['Intermediários', 'date']]\n",
        "\n",
        "uso2['Intermediários'] = uso2['Intermediários'].astype(float)\n",
        "\n",
        "uso2.index = pd.to_datetime(uso2['date'],format = \"%Y%m\")\n",
        "uso2 = uso2.drop(columns = ['date'])\n",
        "\n",
        "uso2['Intermediários_Fixa'] = uso2/uso2['Intermediários'].iloc[0]*100\n",
        "uso2 = uso2.drop(columns = ['Intermediários'])\n",
        "\n",
        "#Importando o índice do segmento de bens de consumo duráveis\n",
        "uso3_raw = sp.get_table(table_code='8887', territorial_level='1', ibge_territorial_code='all', variable = '12607', period='last%2055', classification='543/129301')\n",
        "\n",
        "uso3_raw.columns = uso3_raw.iloc[0]\n",
        "uso3_raw = uso3_raw.iloc[1:,:]\n",
        "\n",
        "uso3 = uso3_raw.rename(columns = {\"Valor\":\"Duráveis\", \"Mês (Código)\":\"date\"})[['Duráveis', 'date']]\n",
        "\n",
        "uso3['Duráveis'] = uso3['Duráveis'].astype(float)\n",
        "\n",
        "uso3.index = pd.to_datetime(uso3['date'],format = \"%Y%m\")\n",
        "uso3 = uso3.drop(columns = ['date'])\n",
        "\n",
        "uso3['Duráveis_Fixa'] = uso3/uso3['Duráveis'].iloc[0]*100\n",
        "uso3 = uso3.drop(columns = ['Duráveis'])\n",
        "\n",
        "#Importando o índice do segmento de bens de consumo semi e não duráveis\n",
        "uso4_raw = sp.get_table(table_code='8887', territorial_level='1', ibge_territorial_code='all', variable = '12607', period='last%2055', classification='543/129305')\n",
        "\n",
        "uso4_raw.columns = uso4_raw.iloc[0]\n",
        "uso4_raw = uso4_raw.iloc[1:,:]\n",
        "\n",
        "uso4 = uso4_raw.rename(columns = {\"Valor\":\"Semi e não duráveis\", \"Mês (Código)\":\"date\"})[['Semi e não duráveis', 'date']]\n",
        "\n",
        "uso4['Semi e não duráveis'] = uso4['Semi e não duráveis'].astype(float)\n",
        "\n",
        "uso4.index = pd.to_datetime(uso4['date'],format = \"%Y%m\")\n",
        "uso4 = uso4.drop(columns = ['date'])\n",
        "\n",
        "uso4['Semi e não duráveis_Fixa'] = uso4/uso4['Semi e não duráveis'].iloc[0]*100\n",
        "uso4 = uso4.drop(columns = ['Semi e não duráveis'])\n",
        "\n",
        "#Organizando as quatro séries no mesmo dataframe\n",
        "uso = pd.merge(uso1, uso2, left_index=True, right_index=True)\n",
        "uso = pd.merge(uso, uso3, left_index=True, right_index=True)\n",
        "uso = pd.merge(uso, uso4, left_index=True, right_index=True)\n",
        "\n",
        "uso.head()"
      ]
    },
    {
      "cell_type": "markdown",
      "metadata": {
        "id": "mdF9Yt8LPzpN"
      },
      "source": [
        "Importando as variações da PFI desagregadas por categorias de uso (Tabela 2):"
      ]
    },
    {
      "cell_type": "code",
      "execution_count": null,
      "metadata": {
        "id": "6MNJlQDpPzpO"
      },
      "outputs": [],
      "source": [
        "#Importando a série mensal com ajuste sazonal e agrupando\n",
        "usovar1_raw = sp.get_table(table_code = '8887', territorial_level='1', ibge_territorial_code='all', variable = '11601', period='last%201', classification='543/all')\n",
        "\n",
        "usovar1_raw.columns = usovar1_raw.iloc[0]\n",
        "usovar1_raw = usovar1_raw.iloc[1:,:]\n",
        "\n",
        "usovar1_raw = usovar1_raw[usovar1_raw['Valor'] != '-']\n",
        "\n",
        "usovar1 = usovar1_raw.rename(columns = {\"Valor\":\"Mensal com ajuste sazonal\", \"Grandes categorias econômicas\": \"Categorias de uso\"})[['Mensal com ajuste sazonal', 'Categorias de uso']]\n",
        "\n",
        "usovar1['Mensal com ajuste sazonal'] = usovar1['Mensal com ajuste sazonal'].astype(float)\n",
        "\n",
        "usovar1.index = usovar1['Categorias de uso']\n",
        "usovar1 = usovar1.drop(columns = ['Categorias de uso'])\n",
        "\n",
        "#Importando e organizando a série mensal em relação ao mês anterior\n",
        "usovar2_raw = sp.get_table(table_code = '8887', territorial_level='1', ibge_territorial_code='all', variable = '11602', period='last%201', classification='543/all')\n",
        "\n",
        "usovar2_raw.columns = usovar2_raw.iloc[0]\n",
        "usovar2_raw = usovar2_raw.iloc[1:,:]\n",
        "\n",
        "usovar2_raw = usovar2_raw[usovar2_raw['Valor'] != '-']\n",
        "\n",
        "usovar2 = usovar2_raw.rename(columns = {\"Valor\":\"Mês/Mês ano anterior\", \"Grandes categorias econômicas\": \"Categorias de uso\"})[['Mês/Mês ano anterior', 'Categorias de uso']]\n",
        "\n",
        "usovar2['Mês/Mês ano anterior'] = usovar2['Mês/Mês ano anterior'].astype(float)\n",
        "\n",
        "usovar2.index = usovar2['Categorias de uso']\n",
        "usovar2 = usovar2.drop(columns = ['Categorias de uso'])\n",
        "usovar2 = usovar2.loc[['1 Bens de capital', '2 Bens intermediários', '3 Bens de consumo', '31 Bens de consumo duráveis', '32 Bens de consumo semiduráveis e não duráveis']]\n",
        "\n",
        "#Importando e organizando a série do acumulado anual\n",
        "usovar3_raw = sp.get_table(table_code = '8887', territorial_level='1', ibge_territorial_code='all', variable = '11603', period='last%201', classification='543/all')\n",
        "\n",
        "usovar3_raw.columns = usovar3_raw.iloc[0]\n",
        "usovar3_raw = usovar3_raw.iloc[1:,:]\n",
        "\n",
        "usovar3_raw = usovar3_raw[usovar3_raw['Valor'] != '-']\n",
        "\n",
        "usovar3 = usovar3_raw.rename(columns = {\"Valor\":\"Acumulado anual\", \"Grandes categorias econômicas\": \"Categorias de uso\"})[['Acumulado anual', 'Categorias de uso']]\n",
        "\n",
        "usovar3['Acumulado anual'] = usovar3['Acumulado anual'].astype(float)\n",
        "\n",
        "usovar3.index = usovar3['Categorias de uso']\n",
        "usovar3 = usovar3.drop(columns = ['Categorias de uso'])\n",
        "usovar3 = usovar3.loc[['1 Bens de capital', '2 Bens intermediários', '3 Bens de consumo', '31 Bens de consumo duráveis', '32 Bens de consumo semiduráveis e não duráveis']]\n",
        "\n",
        "#Importando e organizando a série do acumulado de doze meses\n",
        "usovar4_raw = sp.get_table(table_code = '8887', territorial_level='1', ibge_territorial_code='all', variable = '11604', period='last%201', classification='543/all')\n",
        "\n",
        "usovar4_raw.columns = usovar4_raw.iloc[0]\n",
        "usovar4_raw = usovar4_raw.iloc[1:,:]\n",
        "\n",
        "usovar4_raw = usovar4_raw[usovar4_raw['Valor'] != '-']\n",
        "\n",
        "usovar4 = usovar4_raw.rename(columns = {\"Valor\":\"Acumulado doze meses\", \"Grandes categorias econômicas\": \"Categorias de uso\"})[['Acumulado doze meses', 'Categorias de uso']]\n",
        "\n",
        "usovar4['Acumulado doze meses'] = usovar4['Acumulado doze meses'].astype(float)\n",
        "\n",
        "usovar4.index = usovar4['Categorias de uso']\n",
        "usovar4 = usovar4.drop(columns = ['Categorias de uso'])\n",
        "usovar4 = usovar4.loc[['1 Bens de capital', '2 Bens intermediários', '3 Bens de consumo', '31 Bens de consumo duráveis', '32 Bens de consumo semiduráveis e não duráveis']]\n",
        "\n",
        "#Empilhando os dados das variações por categorias de uso\n",
        "uso_vars = pd.merge(usovar1, usovar2, left_index=True, right_index=True)\n",
        "uso_vars = pd.merge(uso_vars, usovar3, left_index=True, right_index=True)\n",
        "uso_vars = pd.merge(uso_vars, usovar4, left_index=True, right_index=True)\n",
        "\n",
        "uso_vars"
      ]
    },
    {
      "cell_type": "markdown",
      "metadata": {
        "id": "R9K7K17rPzpO"
      },
      "source": [
        "Importando as variações mensais da PFI por seções da CNAE (Tabela 3):"
      ]
    },
    {
      "cell_type": "code",
      "execution_count": null,
      "metadata": {
        "id": "E1rIsVfePzpP"
      },
      "outputs": [],
      "source": [
        "#Importando a série por seção da CNAE e organizando\n",
        "sec_vars1_raw = sp.get_table(table_code='8888', territorial_level='1', ibge_territorial_code='all', variable='11601', period='last%207', classification='544/56689,129317,129318,129319,129320,129321,129322,129323,129324,129325,129326,129330,129331,129332,129333,129334,129335,129336,129337,129338,129339,129340,129341,129342')\n",
        "\n",
        "sec_vars1_raw.columns = sec_vars1_raw.iloc[0]\n",
        "sec_vars1_raw = sec_vars1_raw.iloc[1:,:]\n",
        "\n",
        "sec_vars1 = sec_vars1_raw.rename(columns = {'Valor': 'Mensal com ajuste sazonal', 'Seções e atividades industriais (CNAE 2.0)': 'CNAE', 'Mês (Código)': 'Mês_c'})[['Mensal com ajuste sazonal', 'CNAE', 'Mês_c']]\n",
        "sec_vars1['Mensal com ajuste sazonal'] = sec_vars1['Mensal com ajuste sazonal'].astype(float)\n",
        "\n",
        "sec_vars1.index = sec_vars1['CNAE']\n",
        "sec_vars1 = sec_vars1.drop(columns = ['CNAE'])\n",
        "sec_vars1 = sec_vars1.sort_index()\n",
        "\n",
        "#Pivotando o dataframe para o formato wide\n",
        "sec_vars1 = sec_vars1.pivot(columns='Mês_c', values='Mensal com ajuste sazonal')\n",
        "\n",
        "sec_vars1.head()"
      ]
    },
    {
      "cell_type": "markdown",
      "metadata": {
        "id": "mBIh3sYrPzpQ"
      },
      "source": [
        "Importando as variações acumuladas da PFI por seções da CNAE (Gráfico 3):"
      ]
    },
    {
      "cell_type": "code",
      "execution_count": null,
      "metadata": {
        "id": "7l2QBVrQPzpQ"
      },
      "outputs": [],
      "source": [
        "#Importando a série por seção da CNAE e organizando\n",
        "sec_vars2_raw = sp.get_table(table_code='8888', territorial_level='1', ibge_territorial_code='all', variable='11603', period='last%201', classification='544/56689,129317,129318,129319,129320,129321,129322,129323,129324,129325,129326,129330,129331,129332,129333,129334,129335,129336,129337,129338,129339,129340,129341,129342')\n",
        "\n",
        "sec_vars2_raw.columns = sec_vars2_raw.iloc[0]\n",
        "sec_vars2_raw = sec_vars2_raw.iloc[1:,:]\n",
        "\n",
        "sec_vars2 = sec_vars2_raw.rename(columns = {'Valor': 'Acumulado frente ano anterior', 'Seções e atividades industriais (CNAE 2.0)': 'CNAE'})[['Acumulado frente ano anterior', 'CNAE']]\n",
        "sec_vars2['Acumulado frente ano anterior'] = sec_vars2['Acumulado frente ano anterior'].astype(float)\n",
        "\n",
        "#Configurando o índice e ordenando da menor para a maior variação\n",
        "sec_vars2.index = sec_vars2['CNAE']\n",
        "sec_vars2 = sec_vars2.drop(columns = ['CNAE'])\n",
        "sec_vars2 = sec_vars2.sort_values(by='Acumulado frente ano anterior')\n",
        "\n",
        "sec_vars2.head()"
      ]
    },
    {
      "cell_type": "markdown",
      "metadata": {
        "id": "6zjgIE_rPzpQ"
      },
      "source": [
        "# Dados de Santa Catarina:"
      ]
    },
    {
      "cell_type": "markdown",
      "metadata": {
        "id": "Osy6CzjvPzpR"
      },
      "source": [
        "Importando os dados da PFI de SC com ajuste sazonal (Gráfico 4):"
      ]
    },
    {
      "cell_type": "code",
      "execution_count": null,
      "metadata": {
        "id": "DCzZXhDoPzpR"
      },
      "outputs": [],
      "source": [
        "PFISC_raw = sp.get_table(table_code='8888', territorial_level='3', ibge_territorial_code='42', variable='12607', period='last%2055', classification='544/129314')\n",
        "\n",
        "PFISC_raw.columns = PFISC_raw.iloc[0]\n",
        "PFISC_raw = PFISC_raw.iloc[1:,:]\n",
        "\n",
        "PFISC = PFISC_raw.rename(columns = {'Valor': \"PFISC\", 'Mês (Código)': 'date'})[['PFISC', 'date']]\n",
        "\n",
        "PFISC['PFISC'] = PFISC['PFISC'].astype(float)\n",
        "\n",
        "PFISC.index = pd.to_datetime(PFISC['date'], format = \"%Y%m\")\n",
        "PFISC = PFISC.drop(columns = ['date'])\n",
        "\n",
        "PFISC['PFISC_Fixa'] = PFISC/PFISC['PFISC'].iloc[0]*100\n",
        "PFISC = PFISC.drop(columns = ['PFISC'])\n",
        "\n",
        "PFISC.head()"
      ]
    },
    {
      "cell_type": "markdown",
      "metadata": {
        "id": "x2QfGdpOPzpR"
      },
      "source": [
        "Importando as variações da PFI de SC de acordo com as bases de comparação do IBGE (Tabela 4):"
      ]
    },
    {
      "cell_type": "code",
      "execution_count": null,
      "metadata": {
        "id": "hqWA958LPzpS"
      },
      "outputs": [],
      "source": [
        "#Importando e organizando a série mensal com ajuste sazonal\n",
        "var1SC_raw = sp.get_table(table_code='8888', territorial_level='3', ibge_territorial_code='42', variable='11601', period='last%2055', classification='544/129314')\n",
        "\n",
        "var1SC_raw.columns = var1SC_raw.iloc[0]\n",
        "var1SC_raw = var1SC_raw.iloc[1:,:]\n",
        "\n",
        "var1SC = var1SC_raw.rename(columns = {\"Valor\":\"Mensal com ajuste sazonal\", 'Mês (Código)': 'date'})[['Mensal com ajuste sazonal', 'date']]\n",
        "\n",
        "var1SC['Mensal com ajuste sazonal'] = var1SC['Mensal com ajuste sazonal'].astype(float)\n",
        "\n",
        "var1SC.index = pd.to_datetime(var1SC['date'], format = \"%Y%m\")\n",
        "var1SC = var1SC.drop(columns = ['date'])\n",
        "\n",
        "#Importando e organizando a série mensal em relação ao mês anterior\n",
        "var2SC_raw = sp.get_table(table_code='8888', territorial_level='3', ibge_territorial_code='42', variable='11602', period='last%2055', classification='544/129314')\n",
        "\n",
        "var2SC_raw.columns = var2SC_raw.iloc[0]\n",
        "var2SC_raw = var2SC_raw.iloc[1:,:]\n",
        "\n",
        "var2SC = var2SC_raw.rename(columns = {\"Valor\":\"Mês/Mês ano anterior\", 'Mês (Código)': 'date'})[['Mês/Mês ano anterior', 'date']]\n",
        "\n",
        "var2SC['Mês/Mês ano anterior'] = var2SC['Mês/Mês ano anterior'].astype(float)\n",
        "\n",
        "var2SC.index = pd.to_datetime(var2SC['date'], format = \"%Y%m\")\n",
        "var2SC = var2SC.drop(columns = ['date'])\n",
        "\n",
        "#Importando e organizando a série do acumulado anual\n",
        "var3SC_raw = sp.get_table(table_code='8888', territorial_level='3', ibge_territorial_code='42', variable='11603', period='last%2055', classification='544/129314')\n",
        "\n",
        "var3SC_raw.columns = var3SC_raw.iloc[0]\n",
        "var3SC_raw = var3SC_raw.iloc[1:,:]\n",
        "\n",
        "var3SC = var3SC_raw.rename(columns = {\"Valor\":\"Acumulado anual\", 'Mês (Código)': 'date'})[['Acumulado anual', 'date']]\n",
        "\n",
        "var3SC['Acumulado anual'] = var3SC['Acumulado anual'].astype(float)\n",
        "\n",
        "var3SC.index = pd.to_datetime(var3SC['date'], format = \"%Y%m\")\n",
        "var3SC = var3SC.drop(columns = ['date'])\n",
        "\n",
        "#Importando e organizando a série do acumulado de doze meses\n",
        "var4SC_raw = sp.get_table(table_code='8888', territorial_level='3', ibge_territorial_code='42', variable='11604', period='last%2012', classification='544/129314')\n",
        "\n",
        "var4SC_raw.columns = var4SC_raw.iloc[0]\n",
        "var4SC_raw = var4SC_raw.iloc[1:,:]\n",
        "\n",
        "var4SC = var4SC_raw.rename(columns = {\"Valor\":\"Acumulado doze meses\", 'Mês (Código)': 'date'})[['Acumulado doze meses', 'date']]\n",
        "\n",
        "var4SC['Acumulado doze meses'] = var4SC['Acumulado doze meses'].astype(float)\n",
        "\n",
        "var4SC.index = pd.to_datetime(var4SC['date'], format = \"%Y%m\")\n",
        "var4SC = var4SC.drop(columns = ['date'])\n",
        "\n",
        "#Organizando as quatro séries no mesmo dataframe\n",
        "PFISC_vars = pd.merge(var1SC, var2SC, left_index=True, right_index=True)\n",
        "PFISC_vars = pd.merge(PFISC_vars, var3SC, left_index=True, right_index=True)\n",
        "PFISC_vars = pd.merge(PFISC_vars, var4SC, left_index=True, right_index=True)\n",
        "\n",
        "PFISC_vars"
      ]
    },
    {
      "cell_type": "markdown",
      "metadata": {
        "id": "X1jLPyYwPzpS"
      },
      "source": [
        "Importando as variações mensais da PFI de SC por seções da CNAE (Tabela 5):"
      ]
    },
    {
      "cell_type": "code",
      "execution_count": null,
      "metadata": {
        "id": "BvJG2LVuPzpS"
      },
      "outputs": [],
      "source": [
        "#Importando a série por seção da CNAE e organizando\n",
        "sec_varsSC1_raw = sp.get_table(table_code='8888', territorial_level='3', ibge_territorial_code='42', variable='11602', period='last%207', classification='544/56689,129317,129318,129319,129320,129321,129322,129323,129324,129325,129326,129330,129331,129332,129333,129334,129335,129336,129337,129338,129339,129340,129341,129342')\n",
        "\n",
        "sec_varsSC1_raw.columns = sec_varsSC1_raw.iloc[0]\n",
        "sec_varsSC1_raw = sec_varsSC1_raw.iloc[1:,:]\n",
        "\n",
        "sec_varsSC1 = sec_varsSC1_raw.rename(columns = {'Valor': 'Mensal com ajuste sazonal', 'Seções e atividades industriais (CNAE 2.0)': 'CNAE', 'Mês (Código)': 'Mês_c'})[['Mensal com ajuste sazonal', 'CNAE', 'Mês_c']]\n",
        "sec_varsSC1 = sec_varsSC1[sec_varsSC1['Mensal com ajuste sazonal'] != '-']\n",
        "sec_varsSC1['Mensal com ajuste sazonal'] = sec_varsSC1['Mensal com ajuste sazonal'].astype(float)\n",
        "\n",
        "sec_varsSC1.index = sec_varsSC1['CNAE']\n",
        "sec_varsSC1 = sec_varsSC1.drop(columns = ['CNAE'])\n",
        "sec_varsSC1 = sec_varsSC1.sort_index()\n",
        "\n",
        "#Pivotando o dataframe para o formato wide\n",
        "sec_varsSC1 = sec_varsSC1.pivot(columns='Mês_c', values='Mensal com ajuste sazonal')\n",
        "\n",
        "sec_varsSC1.head()"
      ]
    },
    {
      "cell_type": "markdown",
      "metadata": {
        "id": "tACknLZPPzpT"
      },
      "source": [
        "Importando as variações acumuladas da PFI de SC por seções da CNAE (Gráfico 5):"
      ]
    },
    {
      "cell_type": "code",
      "execution_count": null,
      "metadata": {
        "id": "s1kvWLFBPzpT"
      },
      "outputs": [],
      "source": [
        "#Importando a série por seção da CNAE e organizando\n",
        "sec_varsSC2_raw = sp.get_table(table_code='8888', territorial_level='3', ibge_territorial_code='42', variable='11603', period='last%201', classification='544/56689,129317,129318,129319,129320,129321,129322,129323,129324,129325,129326,129330,129331,129332,129333,129334,129335,129336,129337,129338,129339,129340,129341,129342')\n",
        "\n",
        "sec_varsSC2_raw.columns = sec_varsSC2_raw.iloc[0]\n",
        "sec_varsSC2_raw = sec_varsSC2_raw.iloc[1:,:]\n",
        "\n",
        "sec_varsSC2 = sec_varsSC2_raw.rename(columns = {'Valor': 'Acumulado frente ano anterior', 'Seções e atividades industriais (CNAE 2.0)': 'CNAE'})[['Acumulado frente ano anterior', 'CNAE']]\n",
        "sec_varsSC2 = sec_varsSC2[sec_varsSC2['Acumulado frente ano anterior'] != '-']\n",
        "sec_varsSC2['Acumulado frente ano anterior'] = sec_varsSC2['Acumulado frente ano anterior'].astype(float)\n",
        "\n",
        "#Configurando o índice e ordenando da menor para a maior variação\n",
        "sec_varsSC2.index = sec_varsSC2['CNAE']\n",
        "sec_varsSC2 = sec_varsSC2.drop(columns = ['CNAE'])\n",
        "sec_varsSC2 = sec_varsSC2.sort_values(by='Acumulado frente ano anterior')\n",
        "\n",
        "sec_varsSC2.head()"
      ]
    },
    {
      "cell_type": "markdown",
      "metadata": {
        "id": "NM5pYz2nPzpU"
      },
      "source": [
        "Baixando os arquivos para os gráficos e as tabelas"
      ]
    },
    {
      "cell_type": "code",
      "execution_count": 39,
      "metadata": {
        "id": "lI-Q0HxlPzpU",
        "colab": {
          "base_uri": "https://localhost:8080/",
          "height": 37
        },
        "outputId": "305f5cc9-9299-42c8-89ea-896f9e4e37a8"
      },
      "outputs": [
        {
          "output_type": "display_data",
          "data": {
            "text/plain": [
              "<IPython.core.display.Javascript object>"
            ],
            "application/javascript": [
              "\n",
              "    async function download(id, filename, size) {\n",
              "      if (!google.colab.kernel.accessAllowed) {\n",
              "        return;\n",
              "      }\n",
              "      const div = document.createElement('div');\n",
              "      const label = document.createElement('label');\n",
              "      label.textContent = `Downloading \"${filename}\": `;\n",
              "      div.appendChild(label);\n",
              "      const progress = document.createElement('progress');\n",
              "      progress.max = size;\n",
              "      div.appendChild(progress);\n",
              "      document.body.appendChild(div);\n",
              "\n",
              "      const buffers = [];\n",
              "      let downloaded = 0;\n",
              "\n",
              "      const channel = await google.colab.kernel.comms.open(id);\n",
              "      // Send a message to notify the kernel that we're ready.\n",
              "      channel.send({})\n",
              "\n",
              "      for await (const message of channel.messages) {\n",
              "        // Send a message to notify the kernel that we're ready.\n",
              "        channel.send({})\n",
              "        if (message.buffers) {\n",
              "          for (const buffer of message.buffers) {\n",
              "            buffers.push(buffer);\n",
              "            downloaded += buffer.byteLength;\n",
              "            progress.value = downloaded;\n",
              "          }\n",
              "        }\n",
              "      }\n",
              "      const blob = new Blob(buffers, {type: 'application/binary'});\n",
              "      const a = document.createElement('a');\n",
              "      a.href = window.URL.createObjectURL(blob);\n",
              "      a.download = filename;\n",
              "      div.appendChild(a);\n",
              "      a.click();\n",
              "      div.remove();\n",
              "    }\n",
              "  "
            ]
          },
          "metadata": {}
        },
        {
          "output_type": "display_data",
          "data": {
            "text/plain": [
              "<IPython.core.display.Javascript object>"
            ],
            "application/javascript": [
              "download(\"download_fd6275f9-4b73-4699-9344-aec6eb6b9888\", \"Graph1.xlsx\", 6250)"
            ]
          },
          "metadata": {}
        },
        {
          "output_type": "display_data",
          "data": {
            "text/plain": [
              "<IPython.core.display.Javascript object>"
            ],
            "application/javascript": [
              "\n",
              "    async function download(id, filename, size) {\n",
              "      if (!google.colab.kernel.accessAllowed) {\n",
              "        return;\n",
              "      }\n",
              "      const div = document.createElement('div');\n",
              "      const label = document.createElement('label');\n",
              "      label.textContent = `Downloading \"${filename}\": `;\n",
              "      div.appendChild(label);\n",
              "      const progress = document.createElement('progress');\n",
              "      progress.max = size;\n",
              "      div.appendChild(progress);\n",
              "      document.body.appendChild(div);\n",
              "\n",
              "      const buffers = [];\n",
              "      let downloaded = 0;\n",
              "\n",
              "      const channel = await google.colab.kernel.comms.open(id);\n",
              "      // Send a message to notify the kernel that we're ready.\n",
              "      channel.send({})\n",
              "\n",
              "      for await (const message of channel.messages) {\n",
              "        // Send a message to notify the kernel that we're ready.\n",
              "        channel.send({})\n",
              "        if (message.buffers) {\n",
              "          for (const buffer of message.buffers) {\n",
              "            buffers.push(buffer);\n",
              "            downloaded += buffer.byteLength;\n",
              "            progress.value = downloaded;\n",
              "          }\n",
              "        }\n",
              "      }\n",
              "      const blob = new Blob(buffers, {type: 'application/binary'});\n",
              "      const a = document.createElement('a');\n",
              "      a.href = window.URL.createObjectURL(blob);\n",
              "      a.download = filename;\n",
              "      div.appendChild(a);\n",
              "      a.click();\n",
              "      div.remove();\n",
              "    }\n",
              "  "
            ]
          },
          "metadata": {}
        },
        {
          "output_type": "display_data",
          "data": {
            "text/plain": [
              "<IPython.core.display.Javascript object>"
            ],
            "application/javascript": [
              "download(\"download_530d888b-e0dc-4565-9556-ab22583abd75\", \"Tab1.xlsx\", 5428)"
            ]
          },
          "metadata": {}
        },
        {
          "output_type": "display_data",
          "data": {
            "text/plain": [
              "<IPython.core.display.Javascript object>"
            ],
            "application/javascript": [
              "\n",
              "    async function download(id, filename, size) {\n",
              "      if (!google.colab.kernel.accessAllowed) {\n",
              "        return;\n",
              "      }\n",
              "      const div = document.createElement('div');\n",
              "      const label = document.createElement('label');\n",
              "      label.textContent = `Downloading \"${filename}\": `;\n",
              "      div.appendChild(label);\n",
              "      const progress = document.createElement('progress');\n",
              "      progress.max = size;\n",
              "      div.appendChild(progress);\n",
              "      document.body.appendChild(div);\n",
              "\n",
              "      const buffers = [];\n",
              "      let downloaded = 0;\n",
              "\n",
              "      const channel = await google.colab.kernel.comms.open(id);\n",
              "      // Send a message to notify the kernel that we're ready.\n",
              "      channel.send({})\n",
              "\n",
              "      for await (const message of channel.messages) {\n",
              "        // Send a message to notify the kernel that we're ready.\n",
              "        channel.send({})\n",
              "        if (message.buffers) {\n",
              "          for (const buffer of message.buffers) {\n",
              "            buffers.push(buffer);\n",
              "            downloaded += buffer.byteLength;\n",
              "            progress.value = downloaded;\n",
              "          }\n",
              "        }\n",
              "      }\n",
              "      const blob = new Blob(buffers, {type: 'application/binary'});\n",
              "      const a = document.createElement('a');\n",
              "      a.href = window.URL.createObjectURL(blob);\n",
              "      a.download = filename;\n",
              "      div.appendChild(a);\n",
              "      a.click();\n",
              "      div.remove();\n",
              "    }\n",
              "  "
            ]
          },
          "metadata": {}
        },
        {
          "output_type": "display_data",
          "data": {
            "text/plain": [
              "<IPython.core.display.Javascript object>"
            ],
            "application/javascript": [
              "download(\"download_f23db4fd-4ad4-43a6-8a1c-bdc37f9d2841\", \"Graph2.xlsx\", 8538)"
            ]
          },
          "metadata": {}
        },
        {
          "output_type": "display_data",
          "data": {
            "text/plain": [
              "<IPython.core.display.Javascript object>"
            ],
            "application/javascript": [
              "\n",
              "    async function download(id, filename, size) {\n",
              "      if (!google.colab.kernel.accessAllowed) {\n",
              "        return;\n",
              "      }\n",
              "      const div = document.createElement('div');\n",
              "      const label = document.createElement('label');\n",
              "      label.textContent = `Downloading \"${filename}\": `;\n",
              "      div.appendChild(label);\n",
              "      const progress = document.createElement('progress');\n",
              "      progress.max = size;\n",
              "      div.appendChild(progress);\n",
              "      document.body.appendChild(div);\n",
              "\n",
              "      const buffers = [];\n",
              "      let downloaded = 0;\n",
              "\n",
              "      const channel = await google.colab.kernel.comms.open(id);\n",
              "      // Send a message to notify the kernel that we're ready.\n",
              "      channel.send({})\n",
              "\n",
              "      for await (const message of channel.messages) {\n",
              "        // Send a message to notify the kernel that we're ready.\n",
              "        channel.send({})\n",
              "        if (message.buffers) {\n",
              "          for (const buffer of message.buffers) {\n",
              "            buffers.push(buffer);\n",
              "            downloaded += buffer.byteLength;\n",
              "            progress.value = downloaded;\n",
              "          }\n",
              "        }\n",
              "      }\n",
              "      const blob = new Blob(buffers, {type: 'application/binary'});\n",
              "      const a = document.createElement('a');\n",
              "      a.href = window.URL.createObjectURL(blob);\n",
              "      a.download = filename;\n",
              "      div.appendChild(a);\n",
              "      a.click();\n",
              "      div.remove();\n",
              "    }\n",
              "  "
            ]
          },
          "metadata": {}
        },
        {
          "output_type": "display_data",
          "data": {
            "text/plain": [
              "<IPython.core.display.Javascript object>"
            ],
            "application/javascript": [
              "download(\"download_fef4c795-0f63-4f18-8612-3b1cc98b2262\", \"Tab2.xlsx\", 5236)"
            ]
          },
          "metadata": {}
        },
        {
          "output_type": "display_data",
          "data": {
            "text/plain": [
              "<IPython.core.display.Javascript object>"
            ],
            "application/javascript": [
              "\n",
              "    async function download(id, filename, size) {\n",
              "      if (!google.colab.kernel.accessAllowed) {\n",
              "        return;\n",
              "      }\n",
              "      const div = document.createElement('div');\n",
              "      const label = document.createElement('label');\n",
              "      label.textContent = `Downloading \"${filename}\": `;\n",
              "      div.appendChild(label);\n",
              "      const progress = document.createElement('progress');\n",
              "      progress.max = size;\n",
              "      div.appendChild(progress);\n",
              "      document.body.appendChild(div);\n",
              "\n",
              "      const buffers = [];\n",
              "      let downloaded = 0;\n",
              "\n",
              "      const channel = await google.colab.kernel.comms.open(id);\n",
              "      // Send a message to notify the kernel that we're ready.\n",
              "      channel.send({})\n",
              "\n",
              "      for await (const message of channel.messages) {\n",
              "        // Send a message to notify the kernel that we're ready.\n",
              "        channel.send({})\n",
              "        if (message.buffers) {\n",
              "          for (const buffer of message.buffers) {\n",
              "            buffers.push(buffer);\n",
              "            downloaded += buffer.byteLength;\n",
              "            progress.value = downloaded;\n",
              "          }\n",
              "        }\n",
              "      }\n",
              "      const blob = new Blob(buffers, {type: 'application/binary'});\n",
              "      const a = document.createElement('a');\n",
              "      a.href = window.URL.createObjectURL(blob);\n",
              "      a.download = filename;\n",
              "      div.appendChild(a);\n",
              "      a.click();\n",
              "      div.remove();\n",
              "    }\n",
              "  "
            ]
          },
          "metadata": {}
        },
        {
          "output_type": "display_data",
          "data": {
            "text/plain": [
              "<IPython.core.display.Javascript object>"
            ],
            "application/javascript": [
              "download(\"download_eaf70752-c902-4f9d-a169-806d85bcb43f\", \"Tab3.xlsx\", 6578)"
            ]
          },
          "metadata": {}
        },
        {
          "output_type": "display_data",
          "data": {
            "text/plain": [
              "<IPython.core.display.Javascript object>"
            ],
            "application/javascript": [
              "\n",
              "    async function download(id, filename, size) {\n",
              "      if (!google.colab.kernel.accessAllowed) {\n",
              "        return;\n",
              "      }\n",
              "      const div = document.createElement('div');\n",
              "      const label = document.createElement('label');\n",
              "      label.textContent = `Downloading \"${filename}\": `;\n",
              "      div.appendChild(label);\n",
              "      const progress = document.createElement('progress');\n",
              "      progress.max = size;\n",
              "      div.appendChild(progress);\n",
              "      document.body.appendChild(div);\n",
              "\n",
              "      const buffers = [];\n",
              "      let downloaded = 0;\n",
              "\n",
              "      const channel = await google.colab.kernel.comms.open(id);\n",
              "      // Send a message to notify the kernel that we're ready.\n",
              "      channel.send({})\n",
              "\n",
              "      for await (const message of channel.messages) {\n",
              "        // Send a message to notify the kernel that we're ready.\n",
              "        channel.send({})\n",
              "        if (message.buffers) {\n",
              "          for (const buffer of message.buffers) {\n",
              "            buffers.push(buffer);\n",
              "            downloaded += buffer.byteLength;\n",
              "            progress.value = downloaded;\n",
              "          }\n",
              "        }\n",
              "      }\n",
              "      const blob = new Blob(buffers, {type: 'application/binary'});\n",
              "      const a = document.createElement('a');\n",
              "      a.href = window.URL.createObjectURL(blob);\n",
              "      a.download = filename;\n",
              "      div.appendChild(a);\n",
              "      a.click();\n",
              "      div.remove();\n",
              "    }\n",
              "  "
            ]
          },
          "metadata": {}
        },
        {
          "output_type": "display_data",
          "data": {
            "text/plain": [
              "<IPython.core.display.Javascript object>"
            ],
            "application/javascript": [
              "download(\"download_26dabddf-1030-4bd6-940c-0664fe51d25a\", \"Graph3.xlsx\", 5793)"
            ]
          },
          "metadata": {}
        },
        {
          "output_type": "display_data",
          "data": {
            "text/plain": [
              "<IPython.core.display.Javascript object>"
            ],
            "application/javascript": [
              "\n",
              "    async function download(id, filename, size) {\n",
              "      if (!google.colab.kernel.accessAllowed) {\n",
              "        return;\n",
              "      }\n",
              "      const div = document.createElement('div');\n",
              "      const label = document.createElement('label');\n",
              "      label.textContent = `Downloading \"${filename}\": `;\n",
              "      div.appendChild(label);\n",
              "      const progress = document.createElement('progress');\n",
              "      progress.max = size;\n",
              "      div.appendChild(progress);\n",
              "      document.body.appendChild(div);\n",
              "\n",
              "      const buffers = [];\n",
              "      let downloaded = 0;\n",
              "\n",
              "      const channel = await google.colab.kernel.comms.open(id);\n",
              "      // Send a message to notify the kernel that we're ready.\n",
              "      channel.send({})\n",
              "\n",
              "      for await (const message of channel.messages) {\n",
              "        // Send a message to notify the kernel that we're ready.\n",
              "        channel.send({})\n",
              "        if (message.buffers) {\n",
              "          for (const buffer of message.buffers) {\n",
              "            buffers.push(buffer);\n",
              "            downloaded += buffer.byteLength;\n",
              "            progress.value = downloaded;\n",
              "          }\n",
              "        }\n",
              "      }\n",
              "      const blob = new Blob(buffers, {type: 'application/binary'});\n",
              "      const a = document.createElement('a');\n",
              "      a.href = window.URL.createObjectURL(blob);\n",
              "      a.download = filename;\n",
              "      div.appendChild(a);\n",
              "      a.click();\n",
              "      div.remove();\n",
              "    }\n",
              "  "
            ]
          },
          "metadata": {}
        },
        {
          "output_type": "display_data",
          "data": {
            "text/plain": [
              "<IPython.core.display.Javascript object>"
            ],
            "application/javascript": [
              "download(\"download_a9aaaf45-8c69-40f3-aaf6-eb2d25fd41a9\", \"Graph4.xlsx\", 6249)"
            ]
          },
          "metadata": {}
        },
        {
          "output_type": "display_data",
          "data": {
            "text/plain": [
              "<IPython.core.display.Javascript object>"
            ],
            "application/javascript": [
              "\n",
              "    async function download(id, filename, size) {\n",
              "      if (!google.colab.kernel.accessAllowed) {\n",
              "        return;\n",
              "      }\n",
              "      const div = document.createElement('div');\n",
              "      const label = document.createElement('label');\n",
              "      label.textContent = `Downloading \"${filename}\": `;\n",
              "      div.appendChild(label);\n",
              "      const progress = document.createElement('progress');\n",
              "      progress.max = size;\n",
              "      div.appendChild(progress);\n",
              "      document.body.appendChild(div);\n",
              "\n",
              "      const buffers = [];\n",
              "      let downloaded = 0;\n",
              "\n",
              "      const channel = await google.colab.kernel.comms.open(id);\n",
              "      // Send a message to notify the kernel that we're ready.\n",
              "      channel.send({})\n",
              "\n",
              "      for await (const message of channel.messages) {\n",
              "        // Send a message to notify the kernel that we're ready.\n",
              "        channel.send({})\n",
              "        if (message.buffers) {\n",
              "          for (const buffer of message.buffers) {\n",
              "            buffers.push(buffer);\n",
              "            downloaded += buffer.byteLength;\n",
              "            progress.value = downloaded;\n",
              "          }\n",
              "        }\n",
              "      }\n",
              "      const blob = new Blob(buffers, {type: 'application/binary'});\n",
              "      const a = document.createElement('a');\n",
              "      a.href = window.URL.createObjectURL(blob);\n",
              "      a.download = filename;\n",
              "      div.appendChild(a);\n",
              "      a.click();\n",
              "      div.remove();\n",
              "    }\n",
              "  "
            ]
          },
          "metadata": {}
        },
        {
          "output_type": "display_data",
          "data": {
            "text/plain": [
              "<IPython.core.display.Javascript object>"
            ],
            "application/javascript": [
              "download(\"download_aae54a40-50bf-4a66-8beb-4d833dcfce75\", \"Tab4.xlsx\", 5442)"
            ]
          },
          "metadata": {}
        },
        {
          "output_type": "display_data",
          "data": {
            "text/plain": [
              "<IPython.core.display.Javascript object>"
            ],
            "application/javascript": [
              "\n",
              "    async function download(id, filename, size) {\n",
              "      if (!google.colab.kernel.accessAllowed) {\n",
              "        return;\n",
              "      }\n",
              "      const div = document.createElement('div');\n",
              "      const label = document.createElement('label');\n",
              "      label.textContent = `Downloading \"${filename}\": `;\n",
              "      div.appendChild(label);\n",
              "      const progress = document.createElement('progress');\n",
              "      progress.max = size;\n",
              "      div.appendChild(progress);\n",
              "      document.body.appendChild(div);\n",
              "\n",
              "      const buffers = [];\n",
              "      let downloaded = 0;\n",
              "\n",
              "      const channel = await google.colab.kernel.comms.open(id);\n",
              "      // Send a message to notify the kernel that we're ready.\n",
              "      channel.send({})\n",
              "\n",
              "      for await (const message of channel.messages) {\n",
              "        // Send a message to notify the kernel that we're ready.\n",
              "        channel.send({})\n",
              "        if (message.buffers) {\n",
              "          for (const buffer of message.buffers) {\n",
              "            buffers.push(buffer);\n",
              "            downloaded += buffer.byteLength;\n",
              "            progress.value = downloaded;\n",
              "          }\n",
              "        }\n",
              "      }\n",
              "      const blob = new Blob(buffers, {type: 'application/binary'});\n",
              "      const a = document.createElement('a');\n",
              "      a.href = window.URL.createObjectURL(blob);\n",
              "      a.download = filename;\n",
              "      div.appendChild(a);\n",
              "      a.click();\n",
              "      div.remove();\n",
              "    }\n",
              "  "
            ]
          },
          "metadata": {}
        },
        {
          "output_type": "display_data",
          "data": {
            "text/plain": [
              "<IPython.core.display.Javascript object>"
            ],
            "application/javascript": [
              "download(\"download_bc6dd491-d176-4cd3-8d20-406148f463ed\", \"Tab5.xlsx\", 5921)"
            ]
          },
          "metadata": {}
        },
        {
          "output_type": "display_data",
          "data": {
            "text/plain": [
              "<IPython.core.display.Javascript object>"
            ],
            "application/javascript": [
              "\n",
              "    async function download(id, filename, size) {\n",
              "      if (!google.colab.kernel.accessAllowed) {\n",
              "        return;\n",
              "      }\n",
              "      const div = document.createElement('div');\n",
              "      const label = document.createElement('label');\n",
              "      label.textContent = `Downloading \"${filename}\": `;\n",
              "      div.appendChild(label);\n",
              "      const progress = document.createElement('progress');\n",
              "      progress.max = size;\n",
              "      div.appendChild(progress);\n",
              "      document.body.appendChild(div);\n",
              "\n",
              "      const buffers = [];\n",
              "      let downloaded = 0;\n",
              "\n",
              "      const channel = await google.colab.kernel.comms.open(id);\n",
              "      // Send a message to notify the kernel that we're ready.\n",
              "      channel.send({})\n",
              "\n",
              "      for await (const message of channel.messages) {\n",
              "        // Send a message to notify the kernel that we're ready.\n",
              "        channel.send({})\n",
              "        if (message.buffers) {\n",
              "          for (const buffer of message.buffers) {\n",
              "            buffers.push(buffer);\n",
              "            downloaded += buffer.byteLength;\n",
              "            progress.value = downloaded;\n",
              "          }\n",
              "        }\n",
              "      }\n",
              "      const blob = new Blob(buffers, {type: 'application/binary'});\n",
              "      const a = document.createElement('a');\n",
              "      a.href = window.URL.createObjectURL(blob);\n",
              "      a.download = filename;\n",
              "      div.appendChild(a);\n",
              "      a.click();\n",
              "      div.remove();\n",
              "    }\n",
              "  "
            ]
          },
          "metadata": {}
        },
        {
          "output_type": "display_data",
          "data": {
            "text/plain": [
              "<IPython.core.display.Javascript object>"
            ],
            "application/javascript": [
              "download(\"download_f0c24d2f-f537-4e89-9cbe-5c7b1990f783\", \"Graph5.xlsx\", 5434)"
            ]
          },
          "metadata": {}
        }
      ],
      "source": [
        "#Gráfico 1\n",
        "PFIBR.to_excel('Graph1.xlsx')\n",
        "files.download('Graph1.xlsx')\n",
        "\n",
        "#Tabela 1\n",
        "PFIBR_vars.to_excel('Tab1.xlsx')\n",
        "files.download('Tab1.xlsx')\n",
        "\n",
        "#Gráfico 2\n",
        "uso.to_excel('Graph2.xlsx')\n",
        "files.download('Graph2.xlsx')\n",
        "\n",
        "#Tabela 2\n",
        "uso_vars.to_excel('Tab2.xlsx')\n",
        "files.download('Tab2.xlsx')\n",
        "\n",
        "#Tabela 3\n",
        "sec_vars1.to_excel('Tab3.xlsx')\n",
        "files.download('Tab3.xlsx')\n",
        "\n",
        "#Gráfico 3\n",
        "sec_vars2.to_excel('Graph3.xlsx')\n",
        "files.download('Graph3.xlsx')\n",
        "\n",
        "#Gráfico 4\n",
        "PFISC.to_excel('Graph4.xlsx')\n",
        "files.download('Graph4.xlsx')\n",
        "\n",
        "#Tabela 4\n",
        "PFISC_vars.to_excel('Tab4.xlsx')\n",
        "files.download('Tab4.xlsx')\n",
        "\n",
        "#Tabela 5\n",
        "sec_varsSC1.to_excel('Tab5.xlsx')\n",
        "files.download('Tab5.xlsx')\n",
        "\n",
        "#Gráfico 5\n",
        "sec_varsSC2.to_excel('Graph5.xlsx')\n",
        "files.download('Graph5.xlsx')"
      ]
    }
  ],
  "metadata": {
    "kernelspec": {
      "display_name": "econometria",
      "language": "python",
      "name": "python3"
    },
    "language_info": {
      "codemirror_mode": {
        "name": "ipython",
        "version": 3
      },
      "file_extension": ".py",
      "mimetype": "text/x-python",
      "name": "python",
      "nbconvert_exporter": "python",
      "pygments_lexer": "ipython3",
      "version": "3.12.5"
    },
    "colab": {
      "provenance": []
    }
  },
  "nbformat": 4,
  "nbformat_minor": 0
}